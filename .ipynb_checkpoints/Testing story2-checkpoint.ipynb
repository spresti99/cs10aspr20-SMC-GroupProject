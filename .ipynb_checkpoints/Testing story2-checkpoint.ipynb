{
 "cells": [
  {
   "cell_type": "code",
   "execution_count": null,
   "metadata": {},
   "outputs": [],
   "source": [
    "#testing story 2"
   ]
  },
  {
   "cell_type": "code",
   "execution_count": 16,
   "metadata": {},
   "outputs": [
    {
     "data": {
      "text/plain": [
       "{'storytext': 'I love this blue hat, thanks for helping me choose to wear it today. I am now ready to go outside and fish!',\n",
       " 'question': 'Enter: start fishing',\n",
       " 'pictureUrl': 'https://i.imgur.com/TcaBpZU.jpg'}"
      ]
     },
     "execution_count": 16,
     "metadata": {},
     "output_type": "execute_result"
    }
   ],
   "source": [
    "def story2_conditions(choices):\n",
    "\tconditions = {}\n",
    "\n",
    "\tif choices[0]==\"get dressed\" and choices[1] == \"blue\":\n",
    "\t\tstorytext = \"I love this blue hat, thanks for helping me choose to wear it today. I am now ready to go outside and fish!\"\n",
    "\t\tquestion = \"Enter: start fishing\"\n",
    "\t\tpictureUrl=\"https://i.imgur.com/TcaBpZU.jpg\"\n",
    "\telif choices[0]==\"get dressed\" and choices[1] == \"black\":\n",
    "\t\tstorytext = \"I love this black hat, thanks for helping me choose to wear it today. I am now ready to go outside and fish!\"\n",
    "\t\tquestion = \"Enter: start fishing\"\n",
    "\t\tpictureUrl=\"https://i.imgur.com/jbZazrq.jpg\"\n",
    "\telif choices[0]==\"get dressed\" and choices[1] == \"red\":\n",
    "\t\tstorytext = \"I love this red hat, thanks for helping me choose to wear it today. I am now ready to go outside and fish!\"\n",
    "\t\tquestion = \"Enter: start fishing\"\n",
    "\t\tpictureUrl=\"https://i.imgur.com/6fBKoYg.jpg\"\n",
    "\telif choices[0] == \"get dressed\":\n",
    "\t\tstorytext = \"Okay, time to get dressed. Let's pick out a color hat to wear\"\n",
    "\t\tquestion = \"Enter: black or blue or red\"\n",
    "\t\tpictureUrl = \"https://i.imgur.com/acuLNws.jpg\"\n",
    "\n",
    "\n",
    "\tif choices[0] == \"go fishing\":\n",
    "\t\tstorytext = \"I just grabbed my fishing pole, now I am ready to catch some fish. Tell me when you are ready to cast the line!\"\n",
    "\t\tquestion = \"Enter: ready\"\n",
    "\t\tpictureUrl = \"https://i.imgur.com/OBjJmAT.jpg\"\n",
    "\n",
    "\tif choices[0] == \"go swimming\":\n",
    "\t\tstorytext = \"I put on my snorkel, now I am ready to jump into the ocean. On the count of 3, let's jump together! 1... 2... 3... JUMP!\"\n",
    "\t\tquestion = \"Enter: jump\"\n",
    "\t\tpictureUrl = \"https://i.imgur.com/qIEmd9Q.jpg\"\n",
    "\n",
    "\tconditions.update( {'storytext': storytext} )\n",
    "\tconditions.update( {'question': question} )\n",
    "\tconditions.update( {'pictureUrl': pictureUrl} )\n",
    "\treturn conditions\n",
    "\n",
    "story2_conditions([\"get dressed\", \"blue\", \"\", \"\", \"\", \"\"])"
   ]
  },
  {
   "cell_type": "code",
   "execution_count": null,
   "metadata": {},
   "outputs": [],
   "source": []
  },
  {
   "cell_type": "code",
   "execution_count": null,
   "metadata": {},
   "outputs": [],
   "source": []
  }
 ],
 "metadata": {
  "kernelspec": {
   "display_name": "Python 3",
   "language": "python",
   "name": "python3"
  },
  "language_info": {
   "codemirror_mode": {
    "name": "ipython",
    "version": 3
   },
   "file_extension": ".py",
   "mimetype": "text/x-python",
   "name": "python",
   "nbconvert_exporter": "python",
   "pygments_lexer": "ipython3",
   "version": "3.7.6"
  }
 },
 "nbformat": 4,
 "nbformat_minor": 4
}
