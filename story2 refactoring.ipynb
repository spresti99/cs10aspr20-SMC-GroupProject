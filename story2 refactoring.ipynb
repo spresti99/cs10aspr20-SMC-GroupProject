{
 "cells": [
  {
   "cell_type": "code",
   "execution_count": 9,
   "metadata": {},
   "outputs": [
    {
     "data": {
      "text/plain": [
       "['I just grabbed my fishing pole, now I am ready to catch some fish. Tell me when you are ready to cast the line!',\n",
       " 'Enter: ready',\n",
       " 'ready',\n",
       " 'display:none',\n",
       " 'display:none',\n",
       " 'display:inline']"
      ]
     },
     "execution_count": 9,
     "metadata": {},
     "output_type": "execute_result"
    }
   ],
   "source": [
    "def grab_fishing_pole():\n",
    "\tstorytext = \"I just grabbed my fishing pole, now I am ready to catch some fish. Tell me when you are ready to cast the line!\"\n",
    "\tquestion = \"Enter: ready\"\n",
    "\topt1 = \"ready\"\n",
    "\toptions3Display = \"display:none\"\n",
    "\toptions2Display = \"display:none\"\n",
    "\toptions1Display = \"display:inline\"\n",
    "\treturn [storytext, question, opt1, options3Display, options2Display, options1Display]\n",
    "\n",
    "grab_fishing_pole()"
   ]
  },
  {
   "cell_type": "code",
   "execution_count": null,
   "metadata": {},
   "outputs": [],
   "source": []
  }
 ],
 "metadata": {
  "kernelspec": {
   "display_name": "Python 3",
   "language": "python",
   "name": "python3"
  },
  "language_info": {
   "codemirror_mode": {
    "name": "ipython",
    "version": 3
   },
   "file_extension": ".py",
   "mimetype": "text/x-python",
   "name": "python",
   "nbconvert_exporter": "python",
   "pygments_lexer": "ipython3",
   "version": "3.7.6"
  }
 },
 "nbformat": 4,
 "nbformat_minor": 4
}
