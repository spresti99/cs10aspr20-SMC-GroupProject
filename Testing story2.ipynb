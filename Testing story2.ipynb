{
 "cells": [
  {
   "cell_type": "code",
   "execution_count": null,
   "metadata": {},
   "outputs": [],
   "source": [
    "#testing story 2"
   ]
  },
  {
   "cell_type": "code",
   "execution_count": 27,
   "metadata": {},
   "outputs": [
    {
     "data": {
      "text/plain": [
       "{'storytext': 'I just grabbed my fishing pole, now I am ready to catch some fish. Tell me when you are ready to cast the line!',\n",
       " 'question': 'Enter: ready',\n",
       " 'pictureUrl': 'https://i.imgur.com/OBjJmAT.jpg'}"
      ]
     },
     "execution_count": 27,
     "metadata": {},
     "output_type": "execute_result"
    }
   ],
   "source": [
    "def story2_conditions(choices):\n",
    "    conditions = {}\n",
    "    if len(choices)==2:\n",
    "        if choices[0]==\"get dressed\" and choices[1] == \"blue\":\n",
    "            storytext = \"I love this blue hat, thanks for helping me choose to wear it today. I am now ready to go outside and fish!\"\n",
    "            question = \"Enter: start fishing\"\n",
    "            pictureUrl=\"https://i.imgur.com/TcaBpZU.jpg\"\n",
    "        elif choices[0]==\"get dressed\" and choices[1] == \"black\":\n",
    "            storytext = \"I love this black hat, thanks for helping me choose to wear it today. I am now ready to go outside and fish!\"\n",
    "            question = \"Enter: start fishing\"\n",
    "            pictureUrl=\"https://i.imgur.com/jbZazrq.jpg\"\n",
    "        elif choices[0]==\"get dressed\" and choices[1] == \"red\":\n",
    "            storytext = \"I love this red hat, thanks for helping me choose to wear it today. I am now ready to go outside and fish!\"\n",
    "            question = \"Enter: start fishing\"\n",
    "            pictureUrl=\"https://i.imgur.com/6fBKoYg.jpg\"\n",
    "    if len(choices)==1:\n",
    "        if choices[0] == \"get dressed\":\n",
    "            storytext = \"Okay, time to get dressed. Let's pick out a color hat to wear\"\n",
    "            question = \"Enter: black or blue or red\"\n",
    "            pictureUrl = \"https://i.imgur.com/acuLNws.jpg\"\n",
    "            \n",
    "        if choices[0] == \"go fishing\":\n",
    "            storytext = \"I just grabbed my fishing pole, now I am ready to catch some fish. Tell me when you are ready to cast the line!\"\n",
    "            question = \"Enter: ready\"\n",
    "            pictureUrl = \"https://i.imgur.com/OBjJmAT.jpg\"\n",
    "            \n",
    "        if choices[0] == \"go swimming\":\n",
    "            storytext = \"I put on my snorkel, now I am ready to jump into the ocean. On the count of 3, let's jump together! 1... 2... 3... JUMP!\"\n",
    "            question = \"Enter: jump\"\n",
    "            pictureUrl = \"https://i.imgur.com/qIEmd9Q.jpg\"\n",
    "\n",
    "    conditions.update( {'storytext': storytext} )\n",
    "    conditions.update( {'question': question} )\n",
    "    conditions.update( {'pictureUrl': pictureUrl} )\n",
    "    return conditions\n",
    "\n",
    "story2_conditions([\"go fishing\"])"
   ]
  },
  {
   "cell_type": "code",
   "execution_count": null,
   "metadata": {},
   "outputs": [],
   "source": []
  },
  {
   "cell_type": "code",
   "execution_count": 32,
   "metadata": {},
   "outputs": [
    {
     "data": {
      "text/plain": [
       "{'storytext': 'SPLASH! Now we can explore underwater. Which friend do you want to visit? Willy the Whale, Fiona the Fish, or Connor the Crab',\n",
       " 'question': 'Enter: Willy or Fiona or Connor',\n",
       " 'pictureUrl': 'https://i.imgur.com/OBjJmAT.jpg'}"
      ]
     },
     "execution_count": 32,
     "metadata": {},
     "output_type": "execute_result"
    }
   ],
   "source": [
    "def story2_conditions(choices):\n",
    "\tconditions = {}\n",
    "\tif len(choices)==1:\n",
    "\t\tif choices[0] == \"get dressed\":\n",
    "\t\t\tstorytext = \"Okay, time to get dressed. Let's pick out a color hat to wear\"\n",
    "\t\t\tquestion = \"Enter: black or blue or red\"\n",
    "\t\t\tpictureUrl = \"https://i.imgur.com/acuLNws.jpg\"\n",
    "\n",
    "\t\telif choices[0] == \"go fishing\":\n",
    "\t\t\tstorytext = \"I just grabbed my fishing pole, now I am ready to catch some fish. Tell me when you are ready to cast the line!\"\n",
    "\t\t\tquestion = \"Enter: ready\"\n",
    "\t\t\tpictureUrl = \"https://i.imgur.com/OBjJmAT.jpg\"\n",
    "\n",
    "\t\telif choices[0] == \"go swimming\":\n",
    "\t\t\tstorytext = \"I put on my snorkel, now I am ready to jump into the ocean. On the count of 3, let's jump together! 1... 2... 3... JUMP!\"\n",
    "\t\t\tquestion = \"Enter: jump\"\n",
    "\t\t\tpictureUrl = \"https://i.imgur.com/qIEmd9Q.jpg\"\n",
    "\n",
    "\tif len(choices)==2:\n",
    "\t\tif choices[0]==\"get dressed\" and choices[1] == \"blue\":\n",
    "\t\t\tstorytext = \"I love this blue hat, thanks for helping me choose to wear it today. I am now ready to go outside and fish!\"\n",
    "\t\t\tquestion = \"Enter: start fishing\"\n",
    "\t\t\tpictureUrl=\"https://i.imgur.com/TcaBpZU.jpg\"\n",
    "\t\telif choices[0]==\"get dressed\" and choices[1] == \"black\":\n",
    "\t\t\tstorytext = \"I love this black hat, thanks for helping me choose to wear it today. I am now ready to go outside and fish!\"\n",
    "\t\t\tquestion = \"Enter: start fishing\"\n",
    "\t\t\tpictureUrl=\"https://i.imgur.com/jbZazrq.jpg\"\n",
    "\t\telif choices[0]==\"get dressed\" and choices[1] == \"red\":\n",
    "\t\t\tstorytext = \"I love this red hat, thanks for helping me choose to wear it today. I am now ready to go outside and fish!\"\n",
    "\t\t\tquestion = \"Enter: start fishing\"\n",
    "\t\t\tpictureUrl=\"https://i.imgur.com/6fBKoYg.jpg\"\n",
    "\n",
    "\t\telif choices[0] == \"go fishing\" and choices[1] == \"ready\":\n",
    "\t\t\tstorytext = \"I hope to catch a big fish today. Tell me when you are ready to cast the line\"\n",
    "\t\t\tquestion = \"Enter: ready\"\n",
    "\t\t\tpictureUrl = \"https://i.imgur.com/OBjJmAT.jpg\"\n",
    "\n",
    "\t\telif choices[0] == \"go swimming\" and choices[1]==\"jump\":\n",
    "\t\t\tstorytext = \"SPLASH! Now we can explore underwater. Which friend do you want to visit? Willy the Whale, Fiona the Fish, or Connor the Crab\"\n",
    "\t\t\tquestion = \"Enter: Willy or Fiona or Connor\"\n",
    "\t\t\tpictureUrl = \"https://i.imgur.com/OBjJmAT.jpg\"\n",
    "\n",
    "\tif len(choices)==3:\n",
    "\t\tif choices[0]==\"get dressed\" and choices[1] == \"blue\" and choices[2]==\"start fishing\":\n",
    "\t\t\tstorytext = \"I just grabbed my fishing pole, now I am ready to catch some fish. Tell me when you are ready to cast the line!\"\n",
    "\t\t\tquestion = \"Enter: ready\"\n",
    "\t\t\tpictureUrl=\"https://i.imgur.com/iljLO8r.jpg\"\n",
    "\t\telif choices[0]==\"get dressed\" and choices[1] == \"black\" and choices[2]==\"start fishing\":\n",
    "\t\t\tstorytext = \"I just grabbed my fishing pole, now I am ready to catch some fish. Tell me when you are ready to cast the line!\"\n",
    "\t\t\tquestion = \"Enter: ready\"\n",
    "\t\t\tpictureUrl=\"https://i.imgur.com/IGWrjOy.jpg\"\n",
    "\t\telif choices[0]==\"get dressed\" and choices[1] == \"red\" and choices[2]==\"start fishing\":\n",
    "\t\t\tstorytext = \"I just grabbed my fishing pole, now I am ready to catch some fish. Tell me when you are ready to cast the line!\"\n",
    "\t\t\tquestion = \"Enter: ready\"\n",
    "\t\t\tpictureUrl=\"https://i.imgur.com/SMe1MD1.jpg\"\n",
    "\n",
    "\tconditions.update( {'storytext': storytext} )\n",
    "\tconditions.update( {'question': question} )\n",
    "\tconditions.update( {'pictureUrl': pictureUrl} )\n",
    "\treturn conditions\n",
    "\n",
    "\n",
    "story2_conditions([\"go swimming\", \"jump\"])"
   ]
  },
  {
   "cell_type": "code",
   "execution_count": null,
   "metadata": {},
   "outputs": [],
   "source": []
  }
 ],
 "metadata": {
  "kernelspec": {
   "display_name": "Python 3",
   "language": "python",
   "name": "python3"
  },
  "language_info": {
   "codemirror_mode": {
    "name": "ipython",
    "version": 3
   },
   "file_extension": ".py",
   "mimetype": "text/x-python",
   "name": "python",
   "nbconvert_exporter": "python",
   "pygments_lexer": "ipython3",
   "version": "3.7.6"
  }
 },
 "nbformat": 4,
 "nbformat_minor": 4
}
